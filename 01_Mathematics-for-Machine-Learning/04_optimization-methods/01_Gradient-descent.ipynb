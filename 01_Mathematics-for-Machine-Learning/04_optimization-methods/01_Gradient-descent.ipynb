{
 "cells": [
  {
   "cell_type": "markdown",
   "metadata": {},
   "source": [
    "# Explore gradient descent"
   ]
  },
  {
   "cell_type": "markdown",
   "metadata": {},
   "source": [
    "### Gradient Descent\n",
    "Gradient descent is a method to find the minimum of a function. In our case, we want to minimize the MSE. The idea is to start with some initial values for our parameters (like $\\theta_0, \\theta_1, \\ldots$) and iteratively adjust them to reduce the MSE.\n"
   ]
  },
  {
   "cell_type": "markdown",
   "metadata": {},
   "source": [
    "### Mean Squared Error (MSE)\n",
    "The Mean Squared Error measures how far our predictions ($\\hat{y}_i$) are from the actual values ($y_i$). The formula is:\n",
    "\n",
    "$$\n",
    "\\text{MSE} = \\frac{1}{n} \\sum_{i=1}^{n} (y_i - \\hat{y}_i)^2\n",
    "$$\n"
   ]
  },
  {
   "cell_type": "markdown",
   "metadata": {},
   "source": [
    "### Steps of Gradient Descent\n",
    "1. **Initialize Parameters**: Start with initial guesses for $$\\theta_0, \\theta_1, \\ldots$$.\n",
    "2. **Compute Predictions**: Calculate the predicted values $$\\hat{y}_i$$ using the current parameters.\n",
    "3. **Calculate Gradient**: Compute the gradient (slope) of the MSE with respect to each parameter.\n",
    "4. **Update Parameters**: Adjust the parameters in the direction that reduces the MSE.\n"
   ]
  },
  {
   "cell_type": "markdown",
   "metadata": {},
   "source": [
    "\n",
    "\n",
    "### Gradient Calculation\n",
    "The gradient of the MSE with respect to a parameter $$\\theta_j$$ is:\n",
    "\n",
    "$$\n",
    "\\frac{\\partial \\text{MSE}}{\\partial \\theta_j} = -\\frac{2}{n} \\sum_{i=1}^{n} (y_i - \\hat{y}_i) x_{ij}\n",
    "$$\n",
    "\n",
    "where $x_{ij}$ is the value of the $j$-th feature for the $i$-th data point.\n",
    "\n",
    "### Update Rule\n",
    "Using the gradient, we update each parameter $$\\theta_j$$ as follows:\n",
    "\n",
    "$$\n",
    "\\theta_j := \\theta_j - \\alpha \\left( -\\frac{2}{n} \\sum_{i=1}^{n} (y_i - \\hat{y}_i) x_{ij} \\right)\n",
    "$$\n",
    "\n",
    "Simplifying, we get:\n",
    "\n",
    "$$\n",
    "\\theta_j := \\theta_j + \\alpha \\frac{2}{n} \\sum_{i=1}^{n} (y_i - \\hat{y}_i) x_{ij}\n",
    "$$\n",
    "\n",
    "Here, $$\\alpha$$ is the learning rate, which controls how big the steps are in each iteration.\n",
    "\n",
    "### Summary\n",
    "1. **Start with initial parameters**.\n",
    "2. **Calculate predictions**.\n",
    "3. **Compute the gradient**.\n",
    "4. **Update the parameters** using the gradient.\n",
    "\n",
    "Repeat these steps until the MSE is minimized."
   ]
  },
  {
   "cell_type": "code",
   "execution_count": 1,
   "metadata": {},
   "outputs": [],
   "source": [
    "import numpy as np\n",
    "from matplotlib import pyplot as plt"
   ]
  },
  {
   "cell_type": "markdown",
   "metadata": {},
   "source": [
    "## Mean Squared Error (MSE) Formula\n",
    "\n",
    "The Mean Squared Error (MSE) is a measure of the average squared difference between the actual and predicted values. It is calculated as follows:\n",
    "\n",
    "$$\n",
    "\\text{MSE} = \\frac{1}{n} \\sum_{i=1}^{n} (y_i - \\hat{y}_i)^2\n",
    "$$\n",
    "\n",
    "Where:\n",
    "- $n$ is the number of data points\n",
    "- $y_i$ is the actual value\n",
    "- $\\hat{y}_i$ is the predicted value\n"
   ]
  },
  {
   "cell_type": "code",
   "execution_count": 2,
   "metadata": {},
   "outputs": [],
   "source": [
    "# yhat = wx + b\n",
    "# loss = (y-yhat)**2 / N"
   ]
  },
  {
   "cell_type": "code",
   "execution_count": 3,
   "metadata": {},
   "outputs": [
    {
     "data": {
      "text/plain": [
       "array([[ 1.18511439],\n",
       "       [-1.58441621],\n",
       "       [ 0.71422047],\n",
       "       [-0.4143893 ],\n",
       "       [-1.36378575],\n",
       "       [ 0.64273799],\n",
       "       [-1.03402145],\n",
       "       [ 0.29605863],\n",
       "       [ 0.11649656],\n",
       "       [ 0.81644816],\n",
       "       [-1.1926118 ],\n",
       "       [-0.23420855],\n",
       "       [-0.95665971],\n",
       "       [-0.28633474],\n",
       "       [-0.56973505],\n",
       "       [-2.6066039 ],\n",
       "       [ 0.49611244],\n",
       "       [ 1.69841381],\n",
       "       [ 0.81115429],\n",
       "       [-0.70446647],\n",
       "       [ 1.78787715],\n",
       "       [-0.59408974],\n",
       "       [ 1.08332122],\n",
       "       [-0.52673506],\n",
       "       [-0.26179797],\n",
       "       [ 0.49200702],\n",
       "       [ 0.5665113 ],\n",
       "       [ 1.34531869],\n",
       "       [ 1.76315048],\n",
       "       [-0.67942689],\n",
       "       [ 1.02693948],\n",
       "       [ 1.63632659],\n",
       "       [ 1.32360145],\n",
       "       [-0.02905627],\n",
       "       [ 0.07662312],\n",
       "       [ 1.59056296],\n",
       "       [-0.22014995],\n",
       "       [ 0.19932764],\n",
       "       [-1.32803195],\n",
       "       [-0.48320905],\n",
       "       [ 0.70268286],\n",
       "       [ 0.14144926],\n",
       "       [-0.80616971],\n",
       "       [-1.88797555],\n",
       "       [ 1.47753283],\n",
       "       [ 0.38239012],\n",
       "       [-0.54274412],\n",
       "       [ 0.55572234],\n",
       "       [ 1.26120067],\n",
       "       [ 0.3309284 ],\n",
       "       [-0.24584807],\n",
       "       [ 1.05770453],\n",
       "       [ 0.72690222],\n",
       "       [ 1.80475484],\n",
       "       [ 1.0782634 ],\n",
       "       [ 0.37212518],\n",
       "       [-2.32029103],\n",
       "       [-2.21200296],\n",
       "       [ 0.08132894],\n",
       "       [ 0.56892323],\n",
       "       [ 0.3279595 ],\n",
       "       [-1.83403663],\n",
       "       [-0.1305544 ],\n",
       "       [-1.31876562],\n",
       "       [-0.83344506],\n",
       "       [ 0.02786321],\n",
       "       [ 0.33571473],\n",
       "       [-0.18646343],\n",
       "       [ 1.08091699],\n",
       "       [ 0.83725001],\n",
       "       [ 0.58049528],\n",
       "       [ 1.03163616],\n",
       "       [-1.4078279 ],\n",
       "       [ 0.82736475],\n",
       "       [-0.98270554],\n",
       "       [ 1.19178892],\n",
       "       [ 0.49237252],\n",
       "       [ 0.91635056],\n",
       "       [-0.52550132],\n",
       "       [ 0.00714123],\n",
       "       [ 0.20439918],\n",
       "       [ 0.6886156 ],\n",
       "       [ 0.4063701 ],\n",
       "       [-1.66752246],\n",
       "       [ 1.02293549],\n",
       "       [-1.10162818],\n",
       "       [-1.35452934],\n",
       "       [ 0.80130186],\n",
       "       [-0.89728041],\n",
       "       [-0.0310426 ],\n",
       "       [-0.36714802],\n",
       "       [-0.07683106],\n",
       "       [ 0.72586367],\n",
       "       [ 0.28724725],\n",
       "       [ 1.3296785 ],\n",
       "       [ 0.81814217],\n",
       "       [-0.32183516],\n",
       "       [ 1.43784354],\n",
       "       [ 0.76049776],\n",
       "       [ 0.89132541]])"
      ]
     },
     "execution_count": 3,
     "metadata": {},
     "output_type": "execute_result"
    }
   ],
   "source": [
    "# Initialise some parameters\n",
    "x = np.random.randn(100,1)\n",
    "x"
   ]
  },
  {
   "cell_type": "code",
   "execution_count": 4,
   "metadata": {},
   "outputs": [
    {
     "name": "stdout",
     "output_type": "stream",
     "text": [
      "Actual Bias is: 0.11057298832684359\n",
      "Actual weight is: 2\n"
     ]
    }
   ],
   "source": [
    "# Initialise some parameters\n",
    "b_actual = np.random.rand()\n",
    "w_actual = 2\n",
    "print(f\"Actual Bias is: {b_actual}\")\n",
    "print(f\"Actual weight is: {w_actual}\")\n",
    "y = w_actual*x + b_actual"
   ]
  },
  {
   "cell_type": "code",
   "execution_count": 5,
   "metadata": {},
   "outputs": [
    {
     "data": {
      "text/plain": [
       "<matplotlib.collections.PathCollection at 0x2625af948c0>"
      ]
     },
     "execution_count": 5,
     "metadata": {},
     "output_type": "execute_result"
    },
    {
     "data": {
      "image/png": "[encoded data removed]",
      "text/plain": [
       "<Figure size 640x480 with 1 Axes>"
      ]
     },
     "metadata": {},
     "output_type": "display_data"
    }
   ],
   "source": [
    "plt.scatter(x,y)"
   ]
  },
  {
   "cell_type": "code",
   "execution_count": 6,
   "metadata": {},
   "outputs": [],
   "source": [
    "# Parameters to find:\n",
    "weight = 0.0\n",
    "bias = 0.0\n",
    "\n",
    "# Hyperparameters\n",
    "learning_rate = 0.01"
   ]
  },
  {
   "cell_type": "markdown",
   "metadata": {},
   "source": [
    "The `descend` function updates the weight (`w`) and bias (`b`) in a linear regression model using gradient descent. It calculates the gradients of the loss function with respect to `w` and `b` from the input features (`x`) and target values (`y`), then adjusts `w` and `b` by subtracting the product of the learning rate and the average gradient, aiming to minimize the mean squared error loss."
   ]
  },
  {
   "cell_type": "code",
   "execution_count": 7,
   "metadata": {},
   "outputs": [],
   "source": [
    "# Create gradient descent function\n",
    "def descend(x, y, w, b, learning_rate):\n",
    "    dldw = 0.0  # Initialize gradient for weight\n",
    "    dldb = 0.0  # Initialize gradient for bias\n",
    "    N = x.shape[0]  # Number of data points\n",
    "    # loss = (y-(wx+b))**2  # Loss function (commented out)\n",
    "    for xi, yi in zip(x, y):\n",
    "        dldw += -2*xi*(yi-(w*xi+b))  # Accumulate gradient for weight\n",
    "        dldb += -2*(yi-(w*xi+b))  # Accumulate gradient for bias\n",
    "        \n",
    "    # Make an Update to the w parameter\n",
    "    w = w - learning_rate * (1/N) * dldw  # Update weight\n",
    "    b = b - learning_rate * (1/N) * dldb  # Update bias\n",
    "    \n",
    "    return w, b  # Return updated parameters\n"
   ]
  },
  {
   "cell_type": "code",
   "execution_count": 8,
   "metadata": {},
   "outputs": [
    {
     "name": "stdout",
     "output_type": "stream",
     "text": [
      "Actual weight is: 2 | Actual Bias is: 0.11057298832684359\n",
      "----------\n",
      "For epoch 0 -> loss is: [3.94917023], parameters-> weight:[0.04081587], bias: [0.00665923]\n",
      "For epoch 50 -> loss is: [0.49693514], parameters-> weight:[1.29663341], bias: [0.15303468]\n",
      "For epoch 100 -> loss is: [0.0658114], parameters-> weight:[1.74420516], bias: [0.15504873]\n",
      "For epoch 150 -> loss is: [0.00916088], parameters-> weight:[1.90578097], bias: [0.13738719]\n",
      "For epoch 200 -> loss is: [0.00133258], parameters-> weight:[1.96486666], bias: [0.12427261]\n",
      "For epoch 250 -> loss is: [0.00020088], parameters-> weight:[1.98674699], bias: [0.11703766]\n",
      "For epoch 300 -> loss is: [3.11092083e-05], parameters-> weight:[1.99494738], bias: [0.11348685]\n",
      "For epoch 350 -> loss is: [4.91123954e-06], parameters-> weight:[1.99805525], bias: [0.11184851]\n"
     ]
    }
   ],
   "source": [
    "print(f\"Actual weight is: {w_actual} | Actual Bias is: {b_actual}\")\n",
    "print('----------')\n",
    "# Iteratively make Updates\n",
    "for epoch in range(400):  # Loop over 400 epochs\n",
    "    # Run gradient descent\n",
    "    weight, bias = descend(x, y, weight, bias, learning_rate)  # Update weight and bias\n",
    "    yhat = weight*x + bias  # Calculate predictions\n",
    "    N = x.shape[0]  # Number of Samples\n",
    "    loss = np.divide(np.sum((y-yhat)**2, axis=0), N)  # Compute mean squared error loss\n",
    "    if epoch % 50 == 0:  # Every 50 epochs\n",
    "        print(f\"For epoch {epoch} -> loss is: {loss}, parameters-> weight:{weight}, bias: {bias}\")  # Print loss and parameters"
   ]
  },
  {
   "cell_type": "code",
   "execution_count": null,
   "metadata": {},
   "outputs": [],
   "source": []
  }
 ],
 "metadata": {
  "kernelspec": {
   "display_name": "env",
   "language": "python",
   "name": "python3"
  },
  "language_info": {
   "codemirror_mode": {
    "name": "ipython",
    "version": 3
   },
   "file_extension": ".py",
   "mimetype": "text/x-python",
   "name": "python",
   "nbconvert_exporter": "python",
   "pygments_lexer": "ipython3",
   "version": "3.12.3"
  }
 },
 "nbformat": 4,
 "nbformat_minor": 2
}
