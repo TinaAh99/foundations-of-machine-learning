{
 "cells": [
  {
   "cell_type": "markdown",
   "metadata": {},
   "source": [
    "# Gradient descent with theory and code"
   ]
  },
  {
   "cell_type": "markdown",
   "metadata": {},
   "source": [
    "## Gradient Descent for Linear Regression"
   ]
  },
  {
   "cell_type": "markdown",
   "metadata": {},
   "source": [
    "### 1. Linear Regression Model\n",
    "In linear regression, the model can be represented as:\n",
    "\n",
    "$$\n",
    "\\hat{y}_i = w x_i + b\n",
    "$$\n",
    "\n",
    "where:\n",
    "- $\\hat{y}_i$ is the predicted value for the $i-th$ example.\n",
    "- $w$ is the weight (slope).\n",
    "- $b$ is the bias (intercept).\n",
    "- $x_i$ is the input feature for the $i-th$ example.\n",
    "\n"
   ]
  },
  {
   "cell_type": "markdown",
   "metadata": {},
   "source": [
    "\n",
    "### 2. Cost Function\n",
    "The cost function (Mean Squared Error) measures the difference between the predicted values and the actual values. It is given by:\n",
    "\n",
    "$$\n",
    "J(w, b) = \\frac{1}{2m} \\sum_{i=1}^{m} (\\hat{y}_i - y_i)^2\n",
    "$$\n",
    "\n",
    "where:\n",
    "- $m$ is the number of training examples.\n",
    "- $y_i$ is the actual value for the $i-th$ example.\n",
    "- $\\hat{y}_i$ is the predicted value for the $i-th$ example."
   ]
  },
  {
   "cell_type": "markdown",
   "metadata": {},
   "source": [
    "### 3. Gradient Descent Algorithm\n",
    "Gradient descent aims to minimize the cost function by iteratively updating the parameters $(w)$ and $(b)$. The update rules are:\n",
    "\n",
    "$$\n",
    "w := w - \\alpha \\frac{\\partial J(w, b)}{\\partial w}\n",
    "$$\n",
    "\n",
    "$$\n",
    "b := b - \\alpha \\frac{\\partial J(w, b)}{\\partial b}\n",
    "$$\n",
    "\n",
    "where:\n",
    "- $\\alpha$ is the learning rate.\n",
    "- $\\alpha \\frac{\\partial J(w, b)}{\\partial w}$ and $\\frac{\\partial J(w, b)}{\\partial b}$ are the partial derivatives of the cost function with respect to $(w)$ and $(b)$, respectively. (calculated in the next step)\n"
   ]
  },
  {
   "cell_type": "markdown",
   "metadata": {},
   "source": [
    "### 4. Partial Derivatives\n",
    "The partial derivatives of the cost function are:\n",
    "\n",
    "$$\n",
    "\\frac{\\partial J(w, b)}{\\partial w} = \\frac{1}{m} \\sum_{i=1}^{m} (\\hat{y}_i - y_i) x_i\n",
    "$$\n",
    "\n",
    "$$\n",
    "\\frac{\\partial J(w, b)}{\\partial b} = \\frac{1}{m} \\sum_{i=1}^{m} (\\hat{y}_i - y_i)\n",
    "$$\n"
   ]
  },
  {
   "cell_type": "markdown",
   "metadata": {},
   "source": [
    "### 5. Iterative Update\n",
    "Using these partial derivatives, the parameters are updated iteratively until convergence:\n",
    "\n",
    "$$\n",
    "w := w - \\alpha \\frac{1}{m} \\sum_{i=1}^{m} (\\hat{y}_i - y_i) x_i\n",
    "$$\n",
    "\n",
    "$$\n",
    "b := b - \\alpha \\frac{1}{m} \\sum_{i=1}^{m} (\\hat{y}_i - y_i)\n",
    "$$\n",
    "\n",
    "By following these steps, gradient descent helps in finding the optimal values of $(w)$ and $(b)$ that minimize the cost function, thus providing the best-fit line for the data."
   ]
  },
  {
   "cell_type": "markdown",
   "metadata": {},
   "source": [
    "## Let's Code it out"
   ]
  },
  {
   "cell_type": "code",
   "execution_count": 25,
   "metadata": {},
   "outputs": [],
   "source": [
    "import numpy as np\n",
    "from matplotlib import pyplot as plt"
   ]
  },
  {
   "cell_type": "code",
   "execution_count": 26,
   "metadata": {},
   "outputs": [],
   "source": [
    "# yhat = wx + b\n",
    "# loss = (y-yhat)**2 / m"
   ]
  },
  {
   "cell_type": "code",
   "execution_count": 27,
   "metadata": {},
   "outputs": [
    {
     "data": {
      "text/plain": [
       "array([[ 1.17124945],\n",
       "       [ 0.00571221],\n",
       "       [ 2.13132516],\n",
       "       [-1.38189677],\n",
       "       [-1.90990318]])"
      ]
     },
     "execution_count": 27,
     "metadata": {},
     "output_type": "execute_result"
    }
   ],
   "source": [
    "# Make some random data as input data\n",
    "x = np.random.randn(50,1)\n",
    "x[:5]"
   ]
  },
  {
   "cell_type": "code",
   "execution_count": 28,
   "metadata": {},
   "outputs": [
    {
     "name": "stdout",
     "output_type": "stream",
     "text": [
      "Actual Bias is: 2\n",
      "Actual weight is: 5\n"
     ]
    },
    {
     "data": {
      "text/plain": [
       "<matplotlib.collections.PathCollection at 0x1caa3047110>"
      ]
     },
     "execution_count": 28,
     "metadata": {},
     "output_type": "execute_result"
    },
    {
     "data": {
      "image/png": "[encoded data removed]",
      "text/plain": [
       "<Figure size 640x480 with 1 Axes>"
      ]
     },
     "metadata": {},
     "output_type": "display_data"
    }
   ],
   "source": [
    "# Initialise some parameters\n",
    "\n",
    "# Pick some values for the weight and bias which later on we'll see if the gradient descent can figure them out or nor\n",
    "w_actual = 5\n",
    "b_actual = 2    \n",
    "\n",
    "print(f\"Actual Bias is: {b_actual}\")\n",
    "print(f\"Actual weight is: {w_actual}\")\n",
    "\n",
    "# Make a line using the weight, bias and x \n",
    "y = w_actual*x + b_actual\n",
    "\n",
    "# plot it\n",
    "plt.scatter(x,y)"
   ]
  },
  {
   "cell_type": "markdown",
   "metadata": {},
   "source": [
    "Here the fun begins! For a real case senario, we don't know the actual value of the wight and bias. We use Gradient descent to find them. "
   ]
  },
  {
   "cell_type": "code",
   "execution_count": 29,
   "metadata": {},
   "outputs": [],
   "source": [
    "# Parameters to find:\n",
    "weight = 0.0\n",
    "bias = 0.0\n",
    "\n",
    "# Hyperparameters\n",
    "learning_rate = 0.01"
   ]
  },
  {
   "cell_type": "markdown",
   "metadata": {},
   "source": [
    "The `descend` function updates the weight (`w`) and bias (`b`) in a linear regression model using gradient descent. It calculates the gradients of the loss function with respect to `w` and `b` from the input features (`x`) and target values (`y`), then adjusts `w` and `b` by subtracting the product of the learning rate and the average gradient, aiming to minimize the mean squared error loss."
   ]
  },
  {
   "cell_type": "code",
   "execution_count": 30,
   "metadata": {},
   "outputs": [],
   "source": [
    "# Create gradient descent function\n",
    "def descend(x, y, w, b, learning_rate):\n",
    "    dldw = 0.0  # Initialize gradient for weight\n",
    "    dldb = 0.0  # Initialize gradient for bias\n",
    "    m = x.shape[0]  # Number of data points\n",
    "    # loss = (y-(wx+b))**2  # Loss function (commented out)\n",
    "    for xi, yi in zip(x, y):\n",
    "        dldw += -2*xi*(yi-(w*xi+b))  # Accumulate gradient for weight\n",
    "        dldb += -2*(yi-(w*xi+b))  # Accumulate gradient for bias\n",
    "        \n",
    "    # Make an Update to the w parameter\n",
    "    w = w - learning_rate * (1/m) * dldw  # Update weight\n",
    "    b = b - learning_rate * (1/m) * dldb  # Update bias\n",
    "    \n",
    "    return w, b  # Return updated parameters\n"
   ]
  },
  {
   "cell_type": "code",
   "execution_count": 31,
   "metadata": {},
   "outputs": [
    {
     "name": "stdout",
     "output_type": "stream",
     "text": [
      "Actual weight is: 5 | Actual Bias is: 2\n",
      "----------\n",
      "For epoch 0 -> loss is: [28.1496439], parameters-> weight:[0.10929591], bias: [0.02048662]\n",
      "For epoch 50 -> loss is: [3.66412652], parameters-> weight:[3.34079578], bias: [0.93785508]\n",
      "For epoch 100 -> loss is: [0.54545229], parameters-> weight:[4.4109112], bias: [1.49479935]\n",
      "For epoch 150 -> loss is: [0.0877128], parameters-> weight:[4.78225813], bias: [1.77312409]\n",
      "For epoch 200 -> loss is: [0.01464666], parameters-> weight:[4.9168253], bias: [1.90125326]\n",
      "For epoch 250 -> loss is: [0.00248747], parameters-> weight:[4.96741801], bias: [1.95779858]\n",
      "For epoch 300 -> loss is: [0.00042554], parameters-> weight:[4.98700066], bias: [1.98216317]\n",
      "For epoch 350 -> loss is: [7.30251782e-05], parameters-> weight:[4.99474658], bias: [1.99251284]\n"
     ]
    }
   ],
   "source": [
    "print(f\"Actual weight is: {w_actual} | Actual Bias is: {b_actual}\")\n",
    "print('----------')\n",
    "# Iteratively make Updates\n",
    "for epoch in range(400):  # Loop over 400 epochs\n",
    "    # Run gradient descent\n",
    "    weight, bias = descend(x, y, weight, bias, learning_rate)  # Update weight and bias\n",
    "    yhat = weight*x + bias  # Calculate predictions\n",
    "    m = x.shape[0]  # Number of Samples\n",
    "    loss = np.divide(np.sum((y-yhat)**2, axis=0), m)  # Compute mean squared error loss\n",
    "    if epoch % 50 == 0:  # Every 50 epochs\n",
    "        print(f\"For epoch {epoch} -> loss is: {loss}, parameters-> weight:{weight}, bias: {bias}\")  # Print loss and parameters"
   ]
  },
  {
   "cell_type": "code",
   "execution_count": null,
   "metadata": {},
   "outputs": [],
   "source": []
  }
 ],
 "metadata": {
  "kernelspec": {
   "display_name": "env",
   "language": "python",
   "name": "python3"
  },
  "language_info": {
   "codemirror_mode": {
    "name": "ipython",
    "version": 3
   },
   "file_extension": ".py",
   "mimetype": "text/x-python",
   "name": "python",
   "nbconvert_exporter": "python",
   "pygments_lexer": "ipython3",
   "version": "3.12.3"
  }
 },
 "nbformat": 4,
 "nbformat_minor": 2
}
