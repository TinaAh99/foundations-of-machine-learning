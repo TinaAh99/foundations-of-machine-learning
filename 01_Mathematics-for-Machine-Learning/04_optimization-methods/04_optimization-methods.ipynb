{
 "cells": [
  {
   "cell_type": "markdown",
   "metadata": {},
   "source": [
    "# Explore gradient descent and other optimization techniques."
   ]
  },
  {
   "cell_type": "markdown",
   "metadata": {},
   "source": [
    "## 01. Gradient Descent for Linear Regression"
   ]
  },
  {
   "cell_type": "code",
   "execution_count": 64,
   "metadata": {},
   "outputs": [],
   "source": [
    "import numpy as np\n",
    "from matplotlib import pyplot as plt"
   ]
  },
  {
   "cell_type": "code",
   "execution_count": 65,
   "metadata": {},
   "outputs": [],
   "source": [
    "# yhat = wx + b\n",
    "# loss = (y-yhat)**2 / N\n"
   ]
  },
  {
   "cell_type": "code",
   "execution_count": 66,
   "metadata": {},
   "outputs": [
    {
     "data": {
      "text/plain": [
       "array([[-2.02499207e+00],\n",
       "       [ 5.57198780e-01],\n",
       "       [ 8.03354492e-01],\n",
       "       [ 9.57789170e-02],\n",
       "       [ 1.13261196e+00],\n",
       "       [ 5.23476886e-01],\n",
       "       [-3.81239843e-01],\n",
       "       [ 4.58114246e-02],\n",
       "       [ 1.50477251e+00],\n",
       "       [ 8.37888928e-01],\n",
       "       [ 1.61516601e-01],\n",
       "       [ 1.16089191e+00],\n",
       "       [-2.39735950e-01],\n",
       "       [ 1.83083172e+00],\n",
       "       [ 2.03013929e-01],\n",
       "       [-2.51219209e-01],\n",
       "       [-1.05672777e+00],\n",
       "       [-8.58793474e-02],\n",
       "       [-9.68646072e-01],\n",
       "       [-1.11963018e+00],\n",
       "       [ 2.87926937e-01],\n",
       "       [-9.89254391e-02],\n",
       "       [-1.11106964e+00],\n",
       "       [-9.22792649e-01],\n",
       "       [ 1.34898655e+00],\n",
       "       [ 1.60974303e+00],\n",
       "       [ 4.14551144e-01],\n",
       "       [-9.60593533e-01],\n",
       "       [-1.60773907e+00],\n",
       "       [ 4.46303802e-01],\n",
       "       [ 1.96367807e+00],\n",
       "       [-3.79148339e-01],\n",
       "       [-1.80474676e+00],\n",
       "       [-8.84457403e-01],\n",
       "       [-1.52880689e-03],\n",
       "       [ 6.01348091e-01],\n",
       "       [-5.23428535e-01],\n",
       "       [-1.11141371e+00],\n",
       "       [-4.54851058e-01],\n",
       "       [-6.75315562e-01],\n",
       "       [-2.92229725e-01],\n",
       "       [-1.01851002e-01],\n",
       "       [-8.11482266e-01],\n",
       "       [ 8.18784844e-01],\n",
       "       [-1.04480790e+00],\n",
       "       [-1.55315341e+00],\n",
       "       [ 5.76245709e-01],\n",
       "       [ 1.84127555e+00],\n",
       "       [ 1.20031143e-01],\n",
       "       [-2.79975871e-01],\n",
       "       [-2.56468212e-01],\n",
       "       [-1.05286863e+00],\n",
       "       [-4.43902081e-01],\n",
       "       [-2.03951564e-01],\n",
       "       [-4.44319988e-01],\n",
       "       [ 7.48570898e-01],\n",
       "       [-4.64018701e-01],\n",
       "       [ 4.00680364e-01],\n",
       "       [ 5.88692420e-01],\n",
       "       [-1.12937478e-01],\n",
       "       [-1.98440795e+00],\n",
       "       [ 6.32899981e-01],\n",
       "       [ 3.46280546e-02],\n",
       "       [-3.46197598e-01],\n",
       "       [ 7.93760021e-01],\n",
       "       [ 4.79634472e-01],\n",
       "       [-1.04218699e+00],\n",
       "       [-9.92869820e-01],\n",
       "       [ 5.62765544e-01],\n",
       "       [-9.68300207e-02],\n",
       "       [-1.88588849e-01],\n",
       "       [-2.19169200e-01],\n",
       "       [-2.79750355e-01],\n",
       "       [-1.18612939e+00],\n",
       "       [ 4.77977039e-01],\n",
       "       [-1.62124839e+00],\n",
       "       [-2.42788848e-01],\n",
       "       [-1.04172081e+00],\n",
       "       [-2.23580185e+00],\n",
       "       [-1.05535990e+00],\n",
       "       [-1.51714453e+00],\n",
       "       [ 6.34420287e-01],\n",
       "       [ 5.19717772e-01],\n",
       "       [ 3.17577184e-01],\n",
       "       [-7.85401085e-02],\n",
       "       [-7.32261220e-01],\n",
       "       [ 1.60507837e-01],\n",
       "       [ 4.67391523e-01],\n",
       "       [-7.24912270e-02],\n",
       "       [ 1.28462963e+00],\n",
       "       [-9.17987945e-01],\n",
       "       [-6.41518109e-01],\n",
       "       [ 1.79267952e+00],\n",
       "       [-3.29602637e-01],\n",
       "       [ 6.63886180e-01],\n",
       "       [ 1.75708951e+00],\n",
       "       [ 1.47159946e+00],\n",
       "       [-1.96144397e-01],\n",
       "       [ 3.49305580e-01],\n",
       "       [ 4.51626863e-01]])"
      ]
     },
     "execution_count": 66,
     "metadata": {},
     "output_type": "execute_result"
    }
   ],
   "source": [
    "# Initialise some parameters\n",
    "x = np.random.randn(100,1)\n",
    "x"
   ]
  },
  {
   "cell_type": "code",
   "execution_count": 67,
   "metadata": {},
   "outputs": [
    {
     "name": "stdout",
     "output_type": "stream",
     "text": [
      "Actual Bias is: 0.8909903316886841\n",
      "Actual weight is: 2\n"
     ]
    }
   ],
   "source": [
    "# Initialise some parameters\n",
    "b_actual = np.random.rand()\n",
    "w_actual = 2\n",
    "print(f\"Actual Bias is: {b_actual}\")\n",
    "print(f\"Actual weight is: {w_actual}\")\n",
    "y = w_actual*x + b_actual"
   ]
  },
  {
   "cell_type": "code",
   "execution_count": 68,
   "metadata": {},
   "outputs": [
    {
     "data": {
      "text/plain": [
       "<matplotlib.collections.PathCollection at 0x22d9dbb9610>"
      ]
     },
     "execution_count": 68,
     "metadata": {},
     "output_type": "execute_result"
    },
    {
     "data": {
      "image/png": "[encoded data removed]",
      "text/plain": [
       "<Figure size 640x480 with 1 Axes>"
      ]
     },
     "metadata": {},
     "output_type": "display_data"
    }
   ],
   "source": [
    "plt.scatter(x,y)"
   ]
  },
  {
   "cell_type": "code",
   "execution_count": 69,
   "metadata": {},
   "outputs": [],
   "source": [
    "# Parameters to find:\n",
    "weight = 0.0\n",
    "bias = 0.0\n",
    "\n",
    "# Hyperparameters\n",
    "learning_rate = 0.01"
   ]
  },
  {
   "cell_type": "code",
   "execution_count": 70,
   "metadata": {},
   "outputs": [],
   "source": [
    "# Plot a line base on the wight and bias\n",
    "def line_plot(x,y):\n",
    "    plt.plot(x,y)"
   ]
  },
  {
   "cell_type": "code",
   "execution_count": 71,
   "metadata": {},
   "outputs": [],
   "source": [
    "# Create gradient descent function\n",
    "def descend(x, y, w, b, learning_rate):\n",
    "    dldw = 0.0\n",
    "    dldb = 0.0\n",
    "    N = x.shape[0]\n",
    "    # loss = (y-(wx+b))**2 \n",
    "    for xi, yi in zip(x, y):\n",
    "        dldw += -2*xi*(yi-(w*xi+b))\n",
    "        dldb += -2*(yi-(w*xi+b))\n",
    "        \n",
    "    # Make an Update to the w parameter\n",
    "    w = w - learning_rate * (1/N) * dldw\n",
    "    b = b - learning_rate * (1/N) * dldb\n",
    "    \n",
    "    \n",
    "    return w,b"
   ]
  },
  {
   "cell_type": "code",
   "execution_count": 73,
   "metadata": {},
   "outputs": [
    {
     "name": "stdout",
     "output_type": "stream",
     "text": [
      "Actual weight is: 2 | Actual Bias is: 0.8909903316886841\n",
      "----------\n",
      "For epoch 0 -> loss is: [5.82322401e-06], parameters-> weight:[1.99756965], bias: [0.88993963]\n",
      "For epoch 50 -> loss is: [1.09049688e-06], parameters-> weight:[1.99894806], bias: [0.89053617]\n",
      "For epoch 100 -> loss is: [2.0421413e-07], parameters-> weight:[1.9995447], bias: [0.89079398]\n",
      "For epoch 150 -> loss is: [3.82426021e-08], parameters-> weight:[1.99980294], bias: [0.89090542]\n",
      "For epoch 200 -> loss is: [7.16158699e-09], parameters-> weight:[1.99991472], bias: [0.89095361]\n",
      "For epoch 250 -> loss is: [1.3411311e-09], parameters-> weight:[1.99996309], bias: [0.89097445]\n",
      "For epoch 300 -> loss is: [2.51150056e-10], parameters-> weight:[1.99998403], bias: [0.89098346]\n",
      "For epoch 350 -> loss is: [4.70322095e-11], parameters-> weight:[1.99999309], bias: [0.89098736]\n"
     ]
    }
   ],
   "source": [
    "print(f\"Actual weight is: {w_actual} | Actual Bias is: {b_actual}\")\n",
    "print('----------')\n",
    "# Iteratively make Updates\n",
    "for epoch in range(400):\n",
    "    # Run gradient descent\n",
    "    weight, bias = descend(x, y, weight, bias, learning_rate)\n",
    "    yhat = weight*x + bias\n",
    "    N = x.shape[0] # Number of Samples\n",
    "    loss = np.divide(np.sum((y-yhat)**2, axis=0), N)\n",
    "    if epoch % 50 == 0:\n",
    "        # line_plot(x,yhat)\n",
    "        print(f\"For epoch {epoch} -> loss is: {loss}, parameters-> weight:{weight}, bias: {bias}\")"
   ]
  },
  {
   "cell_type": "code",
   "execution_count": null,
   "metadata": {},
   "outputs": [],
   "source": []
  }
 ],
 "metadata": {
  "kernelspec": {
   "display_name": "env",
   "language": "python",
   "name": "python3"
  },
  "language_info": {
   "codemirror_mode": {
    "name": "ipython",
    "version": 3
   },
   "file_extension": ".py",
   "mimetype": "text/x-python",
   "name": "python",
   "nbconvert_exporter": "python",
   "pygments_lexer": "ipython3",
   "version": "3.12.3"
  }
 },
 "nbformat": 4,
 "nbformat_minor": 2
}
