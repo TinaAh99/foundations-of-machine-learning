{
 "cells": [
  {
   "cell_type": "markdown",
   "metadata": {},
   "source": [
    "# Explore gradient descent and other optimization techniques."
   ]
  },
  {
   "cell_type": "markdown",
   "metadata": {},
   "source": [
    "## 01. Gradient Descent for Linear Regression"
   ]
  },
  {
   "cell_type": "code",
   "execution_count": 2,
   "metadata": {},
   "outputs": [],
   "source": [
    "# yhat = wx + b\n",
    "# loss = (y-yhat)**2 / N\n",
    "import numpy as np"
   ]
  },
  {
   "cell_type": "code",
   "execution_count": 3,
   "metadata": {},
   "outputs": [
    {
     "data": {
      "text/plain": [
       "array([[-0.99829604],\n",
       "       [ 0.91727751],\n",
       "       [ 0.15908514],\n",
       "       [-0.42745443],\n",
       "       [ 0.09366219],\n",
       "       [-1.043706  ],\n",
       "       [-0.27217428],\n",
       "       [ 0.52436937],\n",
       "       [ 0.8392773 ],\n",
       "       [ 0.06449429]])"
      ]
     },
     "execution_count": 3,
     "metadata": {},
     "output_type": "execute_result"
    }
   ],
   "source": [
    "# Initialise some parameters\n",
    "x = np.random.randn(10,1)\n",
    "x"
   ]
  },
  {
   "cell_type": "code",
   "execution_count": 5,
   "metadata": {},
   "outputs": [
    {
     "name": "stdout",
     "output_type": "stream",
     "text": [
      "Actual Bias is: 0.31841529636412114\n",
      "Actual weight is: 2\n"
     ]
    }
   ],
   "source": [
    "# Initialise some parameters\n",
    "b_actual = np.random.rand()\n",
    "w_actual = 2\n",
    "print(f\"Actual Bias is: {b_actual}\")\n",
    "print(f\"Actual weight is: {w_actual}\")\n",
    "y = w_actual*x + b_actual"
   ]
  },
  {
   "cell_type": "code",
   "execution_count": 6,
   "metadata": {},
   "outputs": [],
   "source": [
    "# Parameters to find:\n",
    "weight = 0.0\n",
    "bias = 0.0\n",
    "\n",
    "# Hyperparameters\n",
    "learning_rate = 0.0"
   ]
  },
  {
   "cell_type": "code",
   "execution_count": null,
   "metadata": {},
   "outputs": [],
   "source": [
    "# Create gradient descent function\n",
    "\n"
   ]
  }
 ],
 "metadata": {
  "kernelspec": {
   "display_name": "env",
   "language": "python",
   "name": "python3"
  },
  "language_info": {
   "codemirror_mode": {
    "name": "ipython",
    "version": 3
   },
   "file_extension": ".py",
   "mimetype": "text/x-python",
   "name": "python",
   "nbconvert_exporter": "python",
   "pygments_lexer": "ipython3",
   "version": "3.10.0"
  }
 },
 "nbformat": 4,
 "nbformat_minor": 2
}
